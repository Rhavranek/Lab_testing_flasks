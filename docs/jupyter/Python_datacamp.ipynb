{
 "cells": [
  {
   "cell_type": "code",
   "execution_count": 2,
   "metadata": {},
   "outputs": [
    {
     "name": "stdout",
     "output_type": "stream",
     "text": [
      "This line will be printed\n"
     ]
    }
   ],
   "source": [
    "print(\"This line will be printed\")"
   ]
  },
  {
   "cell_type": "code",
   "execution_count": 4,
   "metadata": {},
   "outputs": [
    {
     "name": "stdout",
     "output_type": "stream",
     "text": [
      "x is 1\n"
     ]
    }
   ],
   "source": [
    "x=1 \n",
    "if x==1:\n",
    "    print(\"x is 1\")"
   ]
  },
  {
   "cell_type": "code",
   "execution_count": 5,
   "metadata": {},
   "outputs": [
    {
     "name": "stdout",
     "output_type": "stream",
     "text": [
      "3\n"
     ]
    }
   ],
   "source": [
    "one = 1\n",
    "two =2 \n",
    "three = one + two\n",
    "print(three)"
   ]
  },
  {
   "cell_type": "code",
   "execution_count": 6,
   "metadata": {},
   "outputs": [
    {
     "name": "stdout",
     "output_type": "stream",
     "text": [
      "helloworld\n"
     ]
    }
   ],
   "source": [
    "hello=\"hello\"\n",
    "world=\"world\"\n",
    "helloworld=hello+world #if you put a \" \" in the middle of this line, then you get a space between the words \n",
    "print(helloworld)"
   ]
  },
  {
   "cell_type": "code",
   "execution_count": 7,
   "metadata": {},
   "outputs": [
    {
     "name": "stdout",
     "output_type": "stream",
     "text": [
      "3 4\n"
     ]
    }
   ],
   "source": [
    "a,b = 3,4 \n",
    "print (a,b)"
   ]
  },
  {
   "cell_type": "code",
   "execution_count": 11,
   "metadata": {},
   "outputs": [
    {
     "name": "stdout",
     "output_type": "stream",
     "text": [
      "String: hello\n",
      "Float: 10.000000\n",
      "Integer: 20\n"
     ]
    }
   ],
   "source": [
    "mystring =\"hello\"\n",
    "myfloat=10.0\n",
    "myint=20\n",
    "\n",
    "#testing code \n",
    "if mystring == \"hello\":\n",
    "    print (\"String: %s\" % mystring)\n",
    "if isinstance(myfloat, float) and myfloat ==10.0:\n",
    "    print(\"Float: %f\" % myfloat)\n",
    "if isinstance(myint, int) and myint == 20:\n",
    "    print(\"Integer: %d\" % myint)"
   ]
  },
  {
   "cell_type": "code",
   "execution_count": 17,
   "metadata": {},
   "outputs": [
    {
     "name": "stdout",
     "output_type": "stream",
     "text": [
      "1\n",
      "1\n",
      "2\n",
      "3\n",
      "[1, 2, 3]\n",
      "['hello', 'world']\n",
      "The second name on the names list is Eric\n"
     ]
    }
   ],
   "source": [
    "mylist=[]\n",
    "mylist.append(1)\n",
    "mylist.append(2)\n",
    "mylist.append(3)\n",
    "print (mylist[0])\n",
    "\n",
    "for x in mylist: \n",
    "    print(x)\n",
    "    \n",
    "    \n",
    "numbers=[]\n",
    "numbers.append(1) #I originally put all of the numbers in one row, but append takes exactly one argument (3 given)\n",
    "numbers.append(2)\n",
    "numbers.append(3)\n",
    "strings=[\"hello\", \"world\"] #Can't append strings \n",
    "\n",
    "names = [\"John\", \"Eric\", \"Jessica\"]\n",
    "second_name=(names[1])\n",
    "\n",
    "\n",
    "# this code should write out the filled arrays and the second name in the names list (Eric).\n",
    "print(numbers)\n",
    "print(strings)\n",
    "print(\"The second name on the names list is %s\" % second_name)"
   ]
  },
  {
   "cell_type": "code",
   "execution_count": 23,
   "metadata": {},
   "outputs": [
    {
     "name": "stdout",
     "output_type": "stream",
     "text": [
      "2.5\n",
      "2\n",
      "hellohellohellohellohellohellohellohellohellohello\n",
      "[1, 2, 3, 1, 2, 3, 1, 2, 3]\n",
      "[1, 3, 5, 7, 2, 4, 6, 8]\n"
     ]
    },
    {
     "ename": "TypeError",
     "evalue": "object() takes no parameters",
     "output_type": "error",
     "traceback": [
      "\u001b[0;31m---------------------------------------------------------------------------\u001b[0m",
      "\u001b[0;31mTypeError\u001b[0m                                 Traceback (most recent call last)",
      "\u001b[0;32m<ipython-input-23-310e21da2fd9>\u001b[0m in \u001b[0;36m<module>\u001b[0;34m()\u001b[0m\n\u001b[1;32m     20\u001b[0m \u001b[0mprint\u001b[0m\u001b[0;34m(\u001b[0m\u001b[0mall_numbers\u001b[0m\u001b[0;34m)\u001b[0m \u001b[0;31m#doesn't put them in sequence, just appends the second set to the first\u001b[0m\u001b[0;34m\u001b[0m\u001b[0m\n\u001b[1;32m     21\u001b[0m \u001b[0;34m\u001b[0m\u001b[0m\n\u001b[0;32m---> 22\u001b[0;31m \u001b[0mx\u001b[0m\u001b[0;34m=\u001b[0m\u001b[0mobject\u001b[0m\u001b[0;34m(\u001b[0m\u001b[0mx\u001b[0m\u001b[0;34m)\u001b[0m\u001b[0;34m\u001b[0m\u001b[0m\n\u001b[0m\u001b[1;32m     23\u001b[0m \u001b[0my\u001b[0m\u001b[0;34m=\u001b[0m\u001b[0mobject\u001b[0m\u001b[0;34m(\u001b[0m\u001b[0my\u001b[0m\u001b[0;34m)\u001b[0m\u001b[0;34m\u001b[0m\u001b[0m\n\u001b[1;32m     24\u001b[0m \u001b[0;34m\u001b[0m\u001b[0m\n",
      "\u001b[0;31mTypeError\u001b[0m: object() takes no parameters"
     ]
    }
   ],
   "source": [
    "#Basic Operators\n",
    "\n",
    "number= 1+2*3/4.0\n",
    "print(number) #2.5 -- follows PEMDAS \n",
    "\n",
    "remainder=11%3\n",
    "print(remainder) #2 -- integer remainder of the division \n",
    "\n",
    "squared = 7**2 #--two starts makes a power relationship (^)\n",
    "cubed=2**3\n",
    "\n",
    "#repeat the input\n",
    "lotsofhellos = \"hello\" * 10\n",
    "print(lotsofhellos)\n",
    "print([1,2,3]*3)\n",
    "\n",
    "even_numbers = [2,4,6,8]\n",
    "odd_numbers = [1,3,5,7]\n",
    "all_numbers = odd_numbers + even_numbers\n",
    "print(all_numbers) #doesn't put them in sequence, just appends the second set to the first \n",
    "\n",
    "#excercise \n",
    "x=object()\n",
    "y=object()\n",
    "\n",
    "x_list=([x]*10)\n",
    "y_list = ([y]*10)\n",
    "big_list = x_list + y_list\n"
   ]
  },
  {
   "cell_type": "code",
   "execution_count": 24,
   "metadata": {},
   "outputs": [
    {
     "name": "stdout",
     "output_type": "stream",
     "text": [
      "Hello, John!\n",
      "John is 23 years old.\n",
      "Hello John Doe. Your current balance is $53.44\n"
     ]
    }
   ],
   "source": [
    "#String formatting\n",
    "# This prints out \"Hello, John!\"\n",
    "name = \"John\"\n",
    "print(\"Hello, %s!\" % name) #'%s' is a string literal in Python\n",
    "\n",
    "name = \"John\"\n",
    "age = 23\n",
    "print(\"%s is %d years old.\" % (name, age)) #use a tuple -- () -- for more than one argument\n",
    "\n",
    "# %s is a string, %d - integers, %f = floating point numbers, %.<number of digits>f - floating point with a fixed number of digits to the right of the dot \n",
    "# %x/%X - integers in hex representation\n",
    "\n",
    "#Exercise \n",
    "data = (\"John\", \"Doe\", 53.44)\n",
    "format_string = \"Hello %s %s. Your current balance is $%s\" \n",
    "\n",
    "print(format_string % data) # here we used %s to reference the first, second, and third peice of data \n",
    "\n",
    "\n"
   ]
  },
  {
   "cell_type": "code",
   "execution_count": 25,
   "metadata": {},
   "outputs": [
    {
     "name": "stdout",
     "output_type": "stream",
     "text": [
      "single quotes are ' '\n",
      "12\n",
      "4\n",
      "lo w\n",
      "!dlrow olleH\n",
      "HELLO WORLD!\n",
      "hello world!\n",
      "Length of s = 20\n",
      "The first occurrence of the letter a = 8\n",
      "a occurs 2 times\n",
      "The first five characters are 'Hey t'\n",
      "The next five characters are 'hera!'\n",
      "The thirteenth character is 'h'\n",
      "The characters with odd index are 'e hr!wa' p'\n",
      "The last five characters are ''s up'\n",
      "String in uppercase: HEY THERA! WHAT'S UP\n",
      "String in lowercase: hey thera! what's up\n",
      "Split the words of the string: ['Hey', 'thera!', \"what's\", 'up']\n"
     ]
    }
   ],
   "source": [
    "#Basic string operations\n",
    "\n",
    "astring = \"Hello world!\"\n",
    "print(\"single quotes are ' '\")\n",
    "print(len(astring)) #count how many characters are in a string w/spaces\n",
    "print(astring.index(\"o\")) #what's the first instance of o \n",
    "print(astring[3:7]) #print just some of the string -- don't forget python indexes with 0\n",
    "print(astring[::-1]) #reverse a string \n",
    "print(astring.upper()) #print in all caps\n",
    "print(astring.lower()) #print in all lower case \n",
    "\n",
    "#exercise: \n",
    "s = \"Hey thera! what's up\"\n",
    "# Length should be 20\n",
    "print(\"Length of s = %d\" % len(s))\n",
    "\n",
    "# First occurrence of \"a\" should be at index 8\n",
    "print(\"The first occurrence of the letter a = %d\" % s.index(\"a\"))\n",
    "\n",
    "# Number of a's should be 2\n",
    "print(\"a occurs %d times\" % s.count(\"a\"))\n",
    "\n",
    "# Slicing the string into bits\n",
    "print(\"The first five characters are '%s'\" % s[:5]) # Start to 5\n",
    "print(\"The next five characters are '%s'\" % s[5:10]) # 5 to 10\n",
    "print(\"The thirteenth character is '%s'\" % s[12]) # Just number 12\n",
    "print(\"The characters with odd index are '%s'\" %s[1::2]) #(0-based indexing)\n",
    "print(\"The last five characters are '%s'\" % s[-5:]) # 5th-from-last to end\n",
    "\n",
    "# Convert everything to uppercase\n",
    "print(\"String in uppercase: %s\" % s.upper())\n",
    "\n",
    "# Convert everything to lowercase\n",
    "print(\"String in lowercase: %s\" % s.lower())\n",
    "\n",
    "# Check how a string starts\n",
    "if s.startswith(\"Str\"):\n",
    "    print(\"String starts with 'Str'. Good!\")\n",
    "\n",
    "# Check how a string ends\n",
    "if s.endswith(\"ome!\"):\n",
    "    print(\"String ends with 'ome!'. Good!\")\n",
    "\n",
    "# Split the string into three separate strings,\n",
    "# each containing only a word\n",
    "print(\"Split the words of the string: %s\" % s.split(\" \"))"
   ]
  },
  {
   "cell_type": "code",
   "execution_count": null,
   "metadata": {},
   "outputs": [],
   "source": [
    "#Conditions \n",
    "# and/ors\n",
    "name = \"John\"\n",
    "age = 23\n",
    "if name == \"John\" and age == 23:\n",
    "    print(\"Your name is John, and you are also 23 years old.\")\n",
    "\n",
    "if name == \"John\" or name == \"Rick\":\n",
    "    print(\"Your name is either John or Rick.\")\n",
    "    \n",
    "name = \"John\"\n",
    "if name in [\"John\", \"Rick\"]:\n",
    "    print(\"Your name is either John or Rick.\")\n",
    "\n",
    "#If/Else statements \n",
    "x = 2\n",
    "if x == 2:\n",
    "    print(\"x equals two!\")\n",
    "else:\n",
    "    print(\"x does not equal to two.\")\n",
    "    \n",
    "#Exercise:\n",
    "# change this code\n",
    "number = 120\n",
    "second_number = []\n",
    "first_array = [1, \"meow\", \"meow\"]\n",
    "second_array = [1,2]\n",
    "\n",
    "if number > 15:\n",
    "    print(\"1\")\n",
    "\n",
    "if first_array:\n",
    "    print(\"2\")\n",
    "\n",
    "if len(second_array) == 2:\n",
    "    print(\"3\")\n",
    "\n",
    "if len(first_array) + len(second_array) == 5:\n",
    "    print(\"4\")\n",
    "\n",
    "if first_array and first_array[0] == 1:\n",
    "    print(\"5\")\n",
    "\n",
    "if not second_number:\n",
    "    print(\"6\")\n",
    "    \n",
    "    "
   ]
  },
  {
   "cell_type": "code",
   "execution_count": null,
   "metadata": {},
   "outputs": [],
   "source": [
    "#Loops \n",
    "#For Loops iterate over a sequence of numbers using the 'range' and \"xrange\" functions. \n",
    "# Prints out the numbers 0,1,2,3,4\n",
    "for x in range(5):\n",
    "    print(x)\n",
    "\n",
    "# Prints out 3,4,5\n",
    "for x in range(3, 6):\n",
    "    print(x)\n",
    "\n",
    "# Prints out 3,5,7\n",
    "for x in range(3, 8, 2):\n",
    "    print(x)\n",
    "\n",
    "#While Loops repeat as long as a certain boolean condition is met. For example:\n",
    "# Prints out 0,1,2,3,4\n",
    "\n",
    "count = 0\n",
    "while count < 5:\n",
    "    print(count)\n",
    "    count += 1  # This is the same as count = count + 1\n",
    "    \n",
    "#Break and Continue \n",
    "count = 0\n",
    "while True:\n",
    "    print(count)\n",
    "    count += 1\n",
    "    if count >= 5:\n",
    "        break\n",
    "\n",
    "# Prints out only odd numbers - 1,3,5,7,9\n",
    "for x in range(10):\n",
    "    # Check if x is even\n",
    "    if x % 2 == 0:\n",
    "        continue\n",
    "    print(x)\n"
   ]
  },
  {
   "cell_type": "code",
   "execution_count": null,
   "metadata": {},
   "outputs": [],
   "source": []
  }
 ],
 "metadata": {
  "kernelspec": {
   "display_name": "Python 3",
   "language": "python",
   "name": "python3"
  },
  "language_info": {
   "codemirror_mode": {
    "name": "ipython",
    "version": 3
   },
   "file_extension": ".py",
   "mimetype": "text/x-python",
   "name": "python",
   "nbconvert_exporter": "python",
   "pygments_lexer": "ipython3",
   "version": "3.6.5"
  }
 },
 "nbformat": 4,
 "nbformat_minor": 2
}
